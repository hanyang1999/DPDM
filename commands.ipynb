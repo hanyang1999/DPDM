{
 "cells": [
  {
   "cell_type": "code",
   "execution_count": null,
   "metadata": {
    "vscode": {
     "languageId": "powershell"
    }
   },
   "outputs": [],
   "source": [
    "# MNIST eps=0.2\n",
    "NCCL_P2P_DISABLE=1 python main.py --mode train --workdir mnist_eps_0.2 --config configs/mnist_28/train_eps_0.2.yaml"
   ]
  },
  {
   "cell_type": "code",
   "execution_count": null,
   "metadata": {
    "vscode": {
     "languageId": "powershell"
    }
   },
   "outputs": [],
   "source": [
    "# Generate Samples\n",
    "NCCL_P2P_DISABLE=1 python main.py --mode eval --workdir mnist_eps_1.0_eval --config configs/mnist_28/sample_eps_1.0.yaml -- model.ckpt=/home/hanyang/diffusion/DPDM/mnist_eps_1.0/checkpoints/final_checkpoint.pth sampler.type=edm sampler.s_churn=100. sampler.s_min=0.05 sampler.s_max=50. sampler.num_steps=1000"
   ]
  },
  {
   "cell_type": "code",
   "execution_count": null,
   "metadata": {
    "vscode": {
     "languageId": "powershell"
    }
   },
   "outputs": [],
   "source": [
    "# Compute FID values\n",
    "python compute_fid_statistics.py --path data/processed/cifar10.zip --file mnist_train_eps_1.0.npz \n",
    "python compute_fid.py --path1 /home/hanyang/diffusion/DPDM/assets/stats/mnist_train.npz --path2 /home/hanyang/diffusion/DPDM/assets/stats/mnist_train.npz"
   ]
  }
 ],
 "metadata": {
  "language_info": {
   "name": "python"
  }
 },
 "nbformat": 4,
 "nbformat_minor": 2
}
